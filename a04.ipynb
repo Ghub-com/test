{
 "cells": [
  {
   "cell_type": "markdown",
   "metadata": {
    "collapsed": true
   },
   "source": [
    "Assignment 4, Aslan Smagulov"
   ]
  },
  {
   "cell_type": "code",
   "execution_count": null,
   "metadata": {
    "collapsed": true
   },
   "outputs": [],
   "source": [
    "import numpy as np\n",
    "import random as rn\n"
   ]
  },
  {
   "cell_type": "code",
   "execution_count": 354,
   "metadata": {},
   "outputs": [
    {
     "name": "stdout",
     "output_type": "stream",
     "text": [
      "[[ 0.12554957  0.95203407  0.5654395 ]\n",
      " [ 0.10788745  0.61342967  0.72420066]\n",
      " [ 0.60365391  0.16071893  0.73760789]]\n"
     ]
    }
   ],
   "source": [
    "B=np.random.rand(3,3)\n",
    "print(B)\n",
    "\n",
    "\n"
   ]
  },
  {
   "cell_type": "code",
   "execution_count": 352,
   "metadata": {},
   "outputs": [
    {
     "name": "stdout",
     "output_type": "stream",
     "text": [
      "<generator object <genexpr> at 0x078D2420>\n",
      "[[ 1.          0.          0.        ]\n",
      " [ 0.23217481  1.          0.        ]\n",
      " [ 0.          0.          0.        ]]\n",
      "[[ 0.60450703  0.24747589  0.        ]\n",
      " [ 0.08289363  0.11385142  0.        ]\n",
      " [ 0.          0.          0.        ]]\n",
      "[[ 1.  0.  0.]\n",
      " [ 0.  1.  0.]\n",
      " [ 0.  0.  0.]]\n",
      "[[ 0.  0.  0.]\n",
      " [ 0.  0.  0.]\n",
      " [ 0.  0.  0.]]\n",
      "[[ 0.  0.  0.]\n",
      " [ 0.  0.  0.]\n",
      " [ 0.  0.  0.]]\n"
     ]
    }
   ],
   "source": [
    "import math\n",
    "print (value for value in B if not math.isnan(value))\n",
    "u=np.zeros([3,3],dtype=np.float)\n",
    "l=np.zeros([3,3],dtype=np.float)\n",
    "\n",
    "\n",
    "for i in range(0,2):\n",
    "    for j in range(0,2):\n",
    "        B[i][j]=(float(B[i][j]))\n",
    "        u[i][j]=B[i][j]\n",
    "for k in range(0,2) :\n",
    "    for i in range(0,2):\n",
    "        if (k==i):\n",
    "            l[k][i]=1\n",
    "        if (k<i):\n",
    "            factor=(B[i][k])/(B[k][k])\n",
    "            l[i][k]=factor\n",
    "            for n in range(0,2):\n",
    "                B[i][n]=B[i][n]-(factor*B[k][i])\n",
    "                u[i][n]=B[i][n]\n",
    "print(l)\n",
    "print(u)\n",
    "I=np.zeros([3,3])\n",
    "for i in range (0,2):\n",
    "    for j in range (0,2):\n",
    "        if (i==j):\n",
    "            I[i][j]=1\n",
    "        else :\n",
    "            I[i][j]=0\n",
    "print(I)\n",
    "X=np.zeros([3,3])\n",
    "sum=0\n",
    "for k in range (0,2):\n",
    "    for i in range (0,2):\n",
    "        for j in range (0,2):\n",
    "            sum=sum+X[j][k]*(l[i][j])\n",
    "            (I[i][k])=sum\n",
    "            \n",
    "Inverse=np.zeros([3,3])\n",
    "for k in range (0,2):\n",
    "    for i in range (0,2):\n",
    "        for j in range (0,2):\n",
    "            sum=sum+Inverse[j][k]*(u[i][j])\n",
    "            (X[i][k])=sum     \n",
    "print(X)\n",
    "print(Inverse)\n",
    "#unfortunately, I could not fix the problem since it gives incorrect inverse matrix, although the algorithm above should work"
   ]
  },
  {
   "cell_type": "code",
   "execution_count": 355,
   "metadata": {},
   "outputs": [
    {
     "name": "stdout",
     "output_type": "stream",
     "text": [
      "[[ 1.83595918 -3.33974896  1.87162394]\n",
      " [ 1.95346681 -1.35875091 -0.16344589]\n",
      " [-1.92818307  3.0292918  -0.14037847]]\n",
      "9.44080576743\n"
     ]
    }
   ],
   "source": [
    "inverse=np.linalg.inv(B)\n",
    "print(inverse)\n",
    "print(np.linalg.cond(B))"
   ]
  },
  {
   "cell_type": "markdown",
   "metadata": {},
   "source": [
    "The matrix is well-conditioned as the condition number is not large or infinity"
   ]
  },
  {
   "cell_type": "code",
   "execution_count": null,
   "metadata": {
    "collapsed": true
   },
   "outputs": [],
   "source": []
  }
 ],
 "metadata": {
  "kernelspec": {
   "display_name": "Python 3",
   "language": "python",
   "name": "python3"
  },
  "language_info": {
   "codemirror_mode": {
    "name": "ipython",
    "version": 3
   },
   "file_extension": ".py",
   "mimetype": "text/x-python",
   "name": "python",
   "nbconvert_exporter": "python",
   "pygments_lexer": "ipython3",
   "version": "3.6.3"
  }
 },
 "nbformat": 4,
 "nbformat_minor": 2
}
