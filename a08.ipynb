{
 "cells": [
  {
   "cell_type": "markdown",
   "metadata": {},
   "source": [
    "Assignment 8, Aslan Smagulov"
   ]
  },
  {
   "cell_type": "code",
   "execution_count": 110,
   "metadata": {
    "collapsed": true
   },
   "outputs": [],
   "source": [
    "import numpy as np\n",
    "import matplotlib.pyplot as plt\n",
    "import math\n",
    "%matplotlib inline"
   ]
  },
  {
   "cell_type": "code",
   "execution_count": 32,
   "metadata": {},
   "outputs": [],
   "source": [
    "def y1(x):\n",
    "    return (3998*(math.exp(-x))-2999*(math.exp(-1000*x)))/(999)"
   ]
  },
  {
   "cell_type": "code",
   "execution_count": 33,
   "metadata": {},
   "outputs": [],
   "source": [
    "def y2(x):\n",
    "    return (2999*(math.exp(-1000*x))-2000*(math.exp(-x)))/(999)"
   ]
  },
  {
   "cell_type": "code",
   "execution_count": 34,
   "metadata": {
    "collapsed": true
   },
   "outputs": [],
   "source": [
    "def dy1(x):\n",
    "    return 999*y1(x)+1999*y2(x)"
   ]
  },
  {
   "cell_type": "code",
   "execution_count": 35,
   "metadata": {
    "collapsed": true
   },
   "outputs": [],
   "source": [
    "def dy2(x):\n",
    "    return -1000*y1(x)-2000*y2(x)"
   ]
  },
  {
   "cell_type": "code",
   "execution_count": 57,
   "metadata": {},
   "outputs": [],
   "source": [
    "#Explicit Euler\n",
    "def Euler1(a,b,h,df1,df2,y1,y2): \n",
    "    \n",
    "    n=(b-a)/h\n",
    "    d=[]\n",
    "    e=[]\n",
    "    f=[]\n",
    "    g=[]\n",
    "    it=[]\n",
    "    f1=np.zeros(int(n+1))\n",
    "    f2=np.zeros(int(n+1))\n",
    "    error1=np.zeros(int(n+1))\n",
    "    error2=np.zeros(int(n+1))\n",
    "    for i in range (0,int(n)):\n",
    "        it.append(i)\n",
    "        f1[0]=1\n",
    "        f2[0]=1\n",
    "        f1[i+1]=f1[i]+df1(f1[i])*h\n",
    "        f2[i+1]=f2[i]+df2(f2[i])*h\n",
    "       \n",
    "        d.append(f1[i])\n",
    "        e.append(f2[i])\n",
    "        error1[i]=abs(d[i]-y1(a+i*h))\n",
    "        error2[i]=abs(e[i]-y2(a+i*h))\n",
    "        f.append(error1[i])\n",
    "        g.append(error2[i])\n",
    "    return it,d,e,f,g\n",
    "\n"
   ]
  },
  {
   "cell_type": "code",
   "execution_count": 142,
   "metadata": {},
   "outputs": [
    {
     "data": {
      "image/png": "[encoded data removed]",
      "text/plain": [
       "<matplotlib.figure.Figure at 0xa49430>"
      ]
     },
     "metadata": {},
     "output_type": "display_data"
    }
   ],
   "source": [
    "it1,d1,e1,er1,er2=Euler1(0,0.2,0.001,dy1,dy2,y1,y2)\n",
    "plt.plot(it1,er1,'r')\n",
    "plt.plot(it1,er2,'g')\n",
    "plt.yscale('log')\n",
    "plt.title('Error propagation')\n",
    "plt.ylabel(\"error\")\n",
    "plt.xlabel(\"iteration number\")\n",
    "plt.show()\n",
    "#red line-error for y1,green line-error for y2"
   ]
  },
  {
   "cell_type": "markdown",
   "metadata": {},
   "source": [
    "The sharp step at the beginning is explained by initial condition which is equal to first term of f1 and f2,therefore error is 0 \n",
    "Approximately at stepsize is less than of order E-4,the solution tends to be stable, larger than that the solution is unstable. Error decreses with stepsize with order of sheme\n"
   ]
  },
  {
   "cell_type": "code",
   "execution_count": 62,
   "metadata": {},
   "outputs": [],
   "source": [
    "def Midpoint(a,b,h,df1,df2,y1,y2):\n",
    "    n=(b-a)/h\n",
    "    d=[]\n",
    "    e=[]\n",
    "    f=[]\n",
    "    g=[]\n",
    "    it=[]\n",
    "    f1=np.zeros(int(n+1))\n",
    "    f2=np.zeros(int(n+1))\n",
    "    error1=np.zeros(int(n+1))\n",
    "    error2=np.zeros(int(n+1))\n",
    "    \n",
    "    for i in range (0,int(n)):\n",
    "        it.append(i)\n",
    "        f1[0]=1\n",
    "        f2[0]=1\n",
    "        f1[i+1]=f1[i]+df1(f1[i])*h/2\n",
    "        f2[i+1]=f2[i]+df2(f2[i])*h/2\n",
    "        \n",
    "        d.append(f1[i])\n",
    "        e.append(f2[i])\n",
    "        error1[i]=abs(d[i]-y1(a+i*h))\n",
    "        error2[i]=abs(e[i]-y2(a+i*h))\n",
    "        f.append(error1[i])\n",
    "        g.append(error2[i])\n",
    "    return it,d,e,f,g\n",
    "\n"
   ]
  },
  {
   "cell_type": "code",
   "execution_count": 137,
   "metadata": {},
   "outputs": [
    {
     "data": {
      "image/png": "[encoded data removed]",
      "text/plain": [
       "<matplotlib.figure.Figure at 0xe47e50>"
      ]
     },
     "metadata": {},
     "output_type": "display_data"
    }
   ],
   "source": [
    "it1,d1,e1,er1,er2=Midpoint(0,0.2,0.000001,dy1,dy2,y1,y2)\n",
    "x=[0,0.2]\n",
    "plt.plot(it1,er1,'r')\n",
    "plt.plot(it1,er2,'g')\n",
    "plt.yscale('log')\n",
    "plt.title('Error propagation')\n",
    "plt.ylabel(\"error\")\n",
    "plt.xlabel(\"iteration number\")\n",
    "plt.show()\n",
    "#red line-error for y1,green line-error for y2\n"
   ]
  },
  {
   "cell_type": "markdown",
   "metadata": {},
   "source": [
    "stable: stepsize <E-6, otherwise unstable. Needs extremely small stepsize in magnitude to minimize the error. Agrees with order of sheme."
   ]
  },
  {
   "cell_type": "code",
   "execution_count": 64,
   "metadata": {
    "collapsed": true
   },
   "outputs": [],
   "source": [
    "def RK4(a,b,h,df1,df2,y1,y2):\n",
    "    n=(b-a)/h\n",
    "    d=[]\n",
    "    e=[]\n",
    "    f=[]\n",
    "    g=[]\n",
    "    it=[]\n",
    "    f1=np.zeros(int(n+1))\n",
    "    f2=np.zeros(int(n+1))\n",
    "    error1=np.zeros(int(n+1))\n",
    "    error2=np.zeros(int(n+1))\n",
    "    for i in range (0,int(n)):\n",
    "        it.append(i)\n",
    "        f1[0]=1\n",
    "        f2[0]=1\n",
    "        k1=df1(f1[i])\n",
    "        k2=df1(f1[i]+k1/2*h)\n",
    "        k3=df1(f1[i]+k2/2*h)\n",
    "        k4=df1(f1[i]+k3*h)\n",
    "        \n",
    "        g1=df2(f2[i])\n",
    "        g2=df2(f2[i]+g1/2*h)\n",
    "        g3=df2(f2[i]+g2/2*h)\n",
    "        g4=df2(f2[i]+g3*h)\n",
    "        \n",
    "        f1[i+1]=f1[i]+1/6*(k1+2*k2+2*k3+2*k4)*h\n",
    "        f2[i+1]=f2[i]+1/6*(g1/6+2*g2+2*g3+g4)*h\n",
    "        d.append(f1[i])\n",
    "        e.append(f2[i])\n",
    "        error1[i]=abs(d[i]-y1(a+i*h))\n",
    "        error2[i]=abs(e[i]-y2(a+i*h))\n",
    "        f.append(error1[i])\n",
    "        g.append(error2[i])\n",
    "    return it,d,e,f,g\n",
    "\n",
    "\n",
    "    "
   ]
  },
  {
   "cell_type": "code",
   "execution_count": 139,
   "metadata": {},
   "outputs": [
    {
     "data": {
      "image/png": "[encoded data removed]",
      "text/plain": [
       "<matplotlib.figure.Figure at 0xbd5f50>"
      ]
     },
     "metadata": {},
     "output_type": "display_data"
    }
   ],
   "source": [
    "it1,d1,e1,er1,er2=Euler1(0,0.2,0.00001,dy1,dy2,y1,y2)\n",
    "plt.plot(it1,er1,'r')\n",
    "plt.plot(it1,er2,'g')\n",
    "plt.yscale('log')\n",
    "plt.title('Error propagation')\n",
    "plt.ylabel(\"error\")\n",
    "plt.xlabel(\"iteration number\")\n",
    "plt.show()\n",
    "#red line-error for y1,green line-error for y2\n"
   ]
  },
  {
   "cell_type": "markdown",
   "metadata": {},
   "source": [
    "Stable: stepsize<E-5,otherwise is unstable.Error decreases with stepsize approximately like in euler's explicit method and agrees the order of sheme"
   ]
  },
  {
   "cell_type": "code",
   "execution_count": 132,
   "metadata": {
    "collapsed": true
   },
   "outputs": [],
   "source": [
    "#Implicit Euler\n",
    "def Euler2(a,b,h,df1,df2,y1,y2): \n",
    "    \n",
    "    n=(b-a)/h\n",
    "    d=[]\n",
    "    e=[]\n",
    "    f=[]\n",
    "    g=[]\n",
    "    it=[]\n",
    "    \n",
    "    f1=np.zeros(int(n+1))\n",
    "    f2=np.zeros(int(n+1))\n",
    "    error1=np.zeros(int(n+1))\n",
    "    error2=np.zeros(int(n+1))\n",
    "    \n",
    "    for i in range (int(n),0,-1):\n",
    "        it.append(i)\n",
    "        f1[int(n)]=(3999*math.exp(-0.2)-2999*math.exp(-200))/999\n",
    "        f2[int(n)]=(2999*math.exp(-200)-200*math.exp(-0.2))/999\n",
    "        f1[i-1]= f1[i]-df1(f1[i])*h\n",
    "        f2[i-1]= f2[i]-df2(f2[i])*h\n",
    "        d.append(f1[i])\n",
    "        e.append(f2[i])\n",
    "        error1[i]=abs(d[i]-y1(b-i*h))\n",
    "        error2[i]=abs(e[i]-y2(b-i*h))\n",
    "        f.append(error1[i])\n",
    "        g.append(error2[i])\n",
    "    return it,d,e,f,g\n",
    "\n",
    "\n"
   ]
  },
  {
   "cell_type": "code",
   "execution_count": null,
   "metadata": {
    "collapsed": true
   },
   "outputs": [],
   "source": []
  }
 ],
 "metadata": {
  "kernelspec": {
   "display_name": "Python 3",
   "language": "python",
   "name": "python3"
  },
  "language_info": {
   "codemirror_mode": {
    "name": "ipython",
    "version": 3
   },
   "file_extension": ".py",
   "mimetype": "text/x-python",
   "name": "python",
   "nbconvert_exporter": "python",
   "pygments_lexer": "ipython3",
   "version": "3.6.3"
  }
 },
 "nbformat": 4,
 "nbformat_minor": 2
}
