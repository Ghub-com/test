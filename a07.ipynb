{
 "cells": [
  {
   "cell_type": "markdown",
   "metadata": {},
   "source": [
    "Assignment 7, Aslan Smagulov"
   ]
  },
  {
   "cell_type": "code",
   "execution_count": 1,
   "metadata": {
    "collapsed": true
   },
   "outputs": [],
   "source": [
    "from scipy.integrate import quad\n",
    "import numpy\n",
    "import math"
   ]
  },
  {
   "cell_type": "code",
   "execution_count": 2,
   "metadata": {
    "collapsed": true
   },
   "outputs": [],
   "source": [
    "def F(x):\n",
    "    return (x**10)*(2-x)*(1-math.exp(20*(x-1)))"
   ]
  },
  {
   "cell_type": "code",
   "execution_count": 27,
   "metadata": {},
   "outputs": [
    {
     "name": "stdout",
     "output_type": "stream",
     "text": [
      "(0.06446182039578609, 9.707454603382227e-13)\n"
     ]
    }
   ],
   "source": [
    "#just to estimate actual value of an integral:\n",
    "def Integral(x):\n",
    "    \n",
    "    return (x**10)*(2-x)*(1-math.exp(20*(x-1)))\n",
    "\n",
    "I = quad(Integral, 0, 1)\n",
    "print(I)"
   ]
  },
  {
   "cell_type": "markdown",
   "metadata": {
    "collapsed": true
   },
   "source": [
    "1.Trapezoidal rule"
   ]
  },
  {
   "cell_type": "code",
   "execution_count": null,
   "metadata": {
    "collapsed": true
   },
   "outputs": [],
   "source": [
    "def Trap(a,b,n):\n",
    "    sum=0\n",
    "    g=[]\n",
    "    \n",
    "    for i in range (0,n-1):\n",
    "        \n",
    "        g.append(a+((b-a)/n)*i)\n",
    "        sum=sum+2*f(g[i])-2*f(g[0])\n",
    "        \n",
    "    sum=sum+f(b)+f(a)\n",
    "    I=(b-a)*sum/(2*n)\n",
    "    return I"
   ]
  },
  {
   "cell_type": "code",
   "execution_count": null,
   "metadata": {
    "collapsed": true
   },
   "outputs": [],
   "source": [
    "print(trap(0,1,500))\n",
    "print('the error for 500 subintervals:',0.06446182039578609-trap(0,1,500))\n"
   ]
  },
  {
   "cell_type": "markdown",
   "metadata": {},
   "source": [
    "#of course in will reach the highest precision even to E-12 or less but to make it more accurate it needs extremely large amount of intervals"
   ]
  },
  {
   "cell_type": "markdown",
   "metadata": {},
   "source": [
    "2.Romberg integration"
   ]
  },
  {
   "cell_type": "code",
   "execution_count": 35,
   "metadata": {},
   "outputs": [
    {
     "name": "stdout",
     "output_type": "stream",
     "text": [
      "[[ 0.          0.          0.          0.          0.          0.          0.\n",
      "   0.        ]\n",
      " [ 0.00073239  0.00097652  0.          0.          0.          0.          0.\n",
      "   0.        ]\n",
      " [ 0.01784601  0.02355055  0.02505549  0.          0.          0.          0.\n",
      "   0.        ]\n",
      " [ 0.04445477  0.05332436  0.05530928  0.0557895   0.          0.          0.\n",
      "   0.        ]\n",
      " [ 0.0584057   0.06305601  0.06370479  0.06383805  0.06386961  0.          0.\n",
      "   0.        ]\n",
      " [ 0.06286414  0.06435028  0.06443657  0.06444818  0.06445057  0.06445114\n",
      "   0.          0.        ]\n",
      " [ 0.06405681  0.06445437  0.06446131  0.06446171  0.06446176  0.06446177\n",
      "   0.06446177  0.        ]\n",
      " [ 0.06436021  0.06446135  0.06446181  0.06446182  0.06446182  0.06446182\n",
      "   0.06446182  0.06446182]]\n"
     ]
    }
   ],
   "source": [
    "def Romberg(f,a,b,n):    \n",
    "    \n",
    "    T = numpy.array([[0] * (n+1)] * (n+1), float)\n",
    "    h = b - a\n",
    "    T[0,0] = 0.5 * h * (f(a) + f(b))\n",
    "\n",
    "    p=1\n",
    "    for i in range(1, n + 1):\n",
    "        \n",
    "        h = 0.5 * h\n",
    "        sum = 0\n",
    "        p=2*p\n",
    "        for k in range(1, p, 2):\n",
    "            \n",
    "            sum = sum + f(a + k*h)\n",
    "        \n",
    "        T[i,0] = 0.5 * T[i-1,0] + sum * h\n",
    "        \n",
    "        p4 = 1\n",
    "        for j in range(1, i + 1):\n",
    "            \n",
    "            T[i,j] =((4**j)*T[i,j-1] - T[i-1,j-1])/(4**j - 1)\n",
    "    \n",
    "    return T\n",
    "\n",
    "print(Romberg(F,0,1,7))"
   ]
  },
  {
   "cell_type": "code",
   "execution_count": 34,
   "metadata": {},
   "outputs": [
    {
     "name": "stdout",
     "output_type": "stream",
     "text": [
      "the highest precision for this method is: 3.9578608446166896e-10\n"
     ]
    }
   ],
   "source": [
    "print('the highest precision for this method is:',0.06446182039578609-0.06446182)"
   ]
  },
  {
   "cell_type": "markdown",
   "metadata": {},
   "source": [
    "the final answer is obtained at n=7 after this it does not change"
   ]
  },
  {
   "cell_type": "markdown",
   "metadata": {},
   "source": [
    "3.Adaptive quadrature"
   ]
  },
  {
   "cell_type": "code",
   "execution_count": 62,
   "metadata": {
    "collapsed": true
   },
   "outputs": [],
   "source": [
    "def quadapt(a,b):\n",
    "    tol=10**(-15)\n",
    "    c=(a+b)/2\n",
    "    fa=F(a)\n",
    "    fc=F(c)\n",
    "    fb=F(b)\n",
    "    quadapt=qstep(a,b,tol,fa,fc,fb)\n",
    "    return quadapt"
   ]
  },
  {
   "cell_type": "code",
   "execution_count": 63,
   "metadata": {},
   "outputs": [
    {
     "name": "stdout",
     "output_type": "stream",
     "text": [
      "0.06446182039578607\n"
     ]
    }
   ],
   "source": [
    "def qstep(a,b,tol,fa,fc,fb):\n",
    "    h1=b-a\n",
    "    h2=h1/2\n",
    "    c=(a+b)/2\n",
    "    fd=F((a+c)/2)\n",
    "    fe=F((c+b)/2)\n",
    "    I1=h1/6*(fa+4*fc+fb)\n",
    "    I2=h2/6*(fa+4*fd+2*fc+4*fe+fb)\n",
    "    if abs(I2-I1)<=tol:\n",
    "        I=I2+(I2-I1)/15\n",
    "    else:\n",
    "        Ia=qstep(a,c,tol,fa,fd,fc)\n",
    "        Ib=qstep(c,b,tol,fc,fe,fb)\n",
    "        I=Ia+Ib\n",
    "    return I \n",
    "        \n",
    "print(quadapt(0,1))\n",
    "\n"
   ]
  },
  {
   "cell_type": "code",
   "execution_count": 30,
   "metadata": {},
   "outputs": [
    {
     "name": "stdout",
     "output_type": "stream",
     "text": [
      "the highest precision for this method is: 1.3877787807814457e-17\n"
     ]
    }
   ],
   "source": [
    "print('the highest precision for this method is:',0.06446182039578609-quadapt(0,1))"
   ]
  },
  {
   "cell_type": "markdown",
   "metadata": {},
   "source": [
    "4.Gauss Quadrature"
   ]
  },
  {
   "cell_type": "code",
   "execution_count": 31,
   "metadata": {},
   "outputs": [],
   "source": [
    "def G(x):\n",
    "    return 0.5*((0.5+0.5*x)**10)*(2-(0.5+0.5*x))*(1-math.exp(20*((0.5+0.5*x)-1)))"
   ]
  },
  {
   "cell_type": "code",
   "execution_count": 32,
   "metadata": {},
   "outputs": [
    {
     "name": "stdout",
     "output_type": "stream",
     "text": [
      "0.06951630852676693\n"
     ]
    }
   ],
   "source": [
    "#5 points:\n",
    "print(G(-0.9)*0.24+G(-0.54)*0.48+G(0)*0.57+G(0.54)*0.48+G(0.9)*0.24)"
   ]
  },
  {
   "cell_type": "code",
   "execution_count": 33,
   "metadata": {},
   "outputs": [
    {
     "name": "stdout",
     "output_type": "stream",
     "text": [
      "0.06534468189499734\n"
     ]
    }
   ],
   "source": [
    "#for 6 points\n",
    "print(0.17*G(-0.93)+0.17*G(0.93)+0.36*G(-0.66)+0.36*G(0.66)+0.47*G(-0.24)+0.47*G(0.24))"
   ]
  },
  {
   "cell_type": "markdown",
   "metadata": {},
   "source": [
    "It is not hard to see that if we increase the number of points in order to compute the integral, the error will fastly decrease and the precison will eventually tend to zero with order of G^(2)(s)(derivative) each time we increase the number of points. "
   ]
  },
  {
   "cell_type": "markdown",
   "metadata": {},
   "source": [
    "Apart from the fact that we do not find the coefficients and corresponding weights and they are already given, Gauss-Legendre quadrature is the most efficient method to find approximated value of particular integral because only 6 points gives close answer, it could be also Romberg method, but it uses composite trapezoidal rule which is more expense."
   ]
  },
  {
   "cell_type": "code",
   "execution_count": null,
   "metadata": {
    "collapsed": true
   },
   "outputs": [],
   "source": []
  }
 ],
 "metadata": {
  "kernelspec": {
   "display_name": "Python 3",
   "language": "python",
   "name": "python3"
  },
  "language_info": {
   "codemirror_mode": {
    "name": "ipython",
    "version": 3
   },
   "file_extension": ".py",
   "mimetype": "text/x-python",
   "name": "python",
   "nbconvert_exporter": "python",
   "pygments_lexer": "ipython3",
   "version": "3.6.3"
  }
 },
 "nbformat": 4,
 "nbformat_minor": 2
}
