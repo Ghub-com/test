{
 "cells": [
  {
   "cell_type": "code",
   "execution_count": null,
   "id": "66282355",
   "metadata": {},
   "outputs": [],
   "source": [
    "import pandas as pd\n",
    "import numpy as np\n",
    "import pandas as pd\n",
    "from datetime import datetime\n",
    "import matplotlib.pyplot as plt"
   ]
  },
  {
   "cell_type": "code",
   "execution_count": null,
   "id": "a2d22140",
   "metadata": {},
   "outputs": [],
   "source": [
    "data=pd.read_csv('/sample.csv)"
   ]
  },
  {
   "cell_type": "code",
   "execution_count": null,
   "id": "cc92430c",
   "metadata": {},
   "outputs": [],
   "source": [
    "data['date'] = pd.to_datetime(df['date'])\n",
    "grouped_data = data.groupby('date')\n",
    "\n",
    "revenue=grouped_data.groupby(['Platform'])['Revenue'].sum()\n",
    "payments=grouped_data.groupby(['Platform'])[' Payments'].sum()\n",
    "time=grouped_data.groupby(['Platform'])[' Playing time'].sum()\n",
    "sessions=grouped_data.groupby(['Platform'])[' Sessions'].sum()\n",
    "meanrevenue=revenue/payments\n",
    "meansession=revenue/sessions\n",
    "meantime=revenue/time\n"
   ]
  },
  {
   "cell_type": "code",
   "execution_count": null,
   "id": "6776b4d7",
   "metadata": {},
   "outputs": [],
   "source": [
    "start_date = datetime(2025, 5, 1)\n",
    "end_date = datetime(2025, 5, 3)"
   ]
  },
  {
   "cell_type": "code",
   "execution_count": null,
   "id": "965d2174",
   "metadata": {},
   "outputs": [],
   "source": [
    "filtered_df = data[(df['date'] >= start_date) & (data['date'] <= end_date)]\n",
    "rev=filtered_df['Revenue'].sum()\n",
    "totalrev=data['date'].sum()\n",
    "rev2=totalrev-rev\n",
    "revper=rev/totalrev*100\n",
    "rev2per=rev2/totalrev*100"
   ]
  },
  {
   "cell_type": "code",
   "execution_count": null,
   "id": "b35eb1f6",
   "metadata": {},
   "outputs": [],
   "source": [
    "revenue.plot()\n",
    "\n",
    "plt.xlabel('date')\n",
    "plt.ylabel('revenue')\n",
    "plt.title('График revenue')\n",
    "plt.grid(True)\n",
    "plt.legend()\n",
    "\n",
    "\n",
    "plt.show()"
   ]
  },
  {
   "cell_type": "code",
   "execution_count": null,
   "id": "0b27c33a",
   "metadata": {},
   "outputs": [],
   "source": [
    "payments.plot()\n",
    "\n",
    "\n",
    "plt.xlabel('date')\n",
    "plt.ylabel('revenue')\n",
    "plt.title('График payments')\n",
    "plt.grid(True)\n",
    "plt.legend()\n",
    "\n",
    "plt.show()"
   ]
  },
  {
   "cell_type": "code",
   "execution_count": null,
   "id": "34f1a723",
   "metadata": {},
   "outputs": [],
   "source": [
    "meansession.plot()\n",
    "\n",
    "# Добавление легенды, сетки и названий осей\n",
    "plt.xlabel('date')\n",
    "plt.ylabel('meansession')\n",
    "plt.title('График по нескольким сегментам')\n",
    "plt.grid(True)\n",
    "plt.legend()\n",
    "\n",
    "# Отображение графика\n",
    "plt.show()"
   ]
  },
  {
   "cell_type": "code",
   "execution_count": null,
   "id": "f3347974",
   "metadata": {},
   "outputs": [],
   "source": [
    "meantime.plot()\n",
    "\n",
    "# Добавление легенды, сетки и названий осей\n",
    "plt.xlabel('date')\n",
    "plt.ylabel('meantime')\n",
    "plt.title('График по нескольким сегментам')\n",
    "plt.grid(True)\n",
    "plt.legend()\n",
    "\n",
    "# Отображение графика\n",
    "plt.show()"
   ]
  },
  {
   "cell_type": "code",
   "execution_count": null,
   "id": "dd448679",
   "metadata": {},
   "outputs": [],
   "source": [
    "from prophet import Prophet\n",
    "\n",
    "data['date'] = pd.to_datetime(df['date'])\n",
    "grouped_data = data.groupby('date')\n",
    "\n",
    "revenue=grouped_data.groupby(['Platform'])['Revenue'].sum()\n",
    "payments=grouped_data.groupby(['Platform'])[' Payments'].sum()\n",
    "users=len(set(data['user_id'])) \n",
    "df=(revenue/users)*(payments/users)\n",
    "model = Prophet()\n",
    "model.fit(df)\n",
    "future = model.make_future_dataframe(periods=60)\n",
    "forecast = model.predict(future)\n",
    "forecast[['ds', 'yhat', 'yhat_lower', 'yhat_upper']])\n",
    "model.plot(forecast)\n",
    "model.plot_components(forecast)\n",
    "\n"
   ]
  },
  {
   "cell_type": "code",
   "execution_count": null,
   "id": "298e32b7",
   "metadata": {},
   "outputs": [],
   "source": [
    "data['date'] = pd.to_datetime(df['date'])\n",
    "grouped_data = data.groupby('date')\n",
    "\n",
    "revenue=data.groupby(['user_id'])['Revenue'].mean()\n",
    "payments=data.groupby(['user_id'])[' Payments'].mean()\n",
    "ltv=revenue*payments\n",
    "bestltv = ltv.sort_values(by='user_id', ascending=False)\n",
    "bestltv['user_id'].head(10)\n"
   ]
  }
 ],
 "metadata": {
  "kernelspec": {
   "display_name": "Python 3 (ipykernel)",
   "language": "python",
   "name": "python3"
  },
  "language_info": {
   "codemirror_mode": {
    "name": "ipython",
    "version": 3
   },
   "file_extension": ".py",
   "mimetype": "text/x-python",
   "name": "python",
   "nbconvert_exporter": "python",
   "pygments_lexer": "ipython3",
   "version": "3.9.7"
  }
 },
 "nbformat": 4,
 "nbformat_minor": 5
}
